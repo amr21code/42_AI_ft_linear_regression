{
 "cells": [
  {
   "cell_type": "markdown",
   "metadata": {},
   "source": [
    "# Documentation for linear regression algorithm"
   ]
  },
  {
   "cell_type": "markdown",
   "metadata": {},
   "source": [
    "## Predict program"
   ]
  },
  {
   "cell_type": "markdown",
   "metadata": {},
   "source": [
    "First import the needed modules\n",
    "sys is needed for exiting the program\n",
    "theta is the prepared file from the training program. In Case it did not run yet, we initialize theta0 and theta1 to 0"
   ]
  },
  {
   "cell_type": "code",
   "execution_count": 1,
   "metadata": {
    "tags": []
   },
   "outputs": [],
   "source": [
    "import sys\n",
    "try:\n",
    "\timport theta\n",
    "\ttheta1 = theta.theta1\n",
    "\ttheta0 = theta.theta0\n",
    "except:\n",
    "\ttheta1 = 0\n",
    "\ttheta0 = 0"
   ]
  },
  {
   "cell_type": "code",
   "execution_count": 2,
   "metadata": {
    "tags": []
   },
   "outputs": [
    {
     "name": "stdout",
     "output_type": "stream",
     "text": [
      "please enter your mileage: 25000\n"
     ]
    }
   ],
   "source": [
    "mileage = input(\"please enter your mileage:\")"
   ]
  },
  {
   "cell_type": "markdown",
   "metadata": {},
   "source": [
    "After we got the mileage to predict the price we calculate the prediction based on the thetas and the input.\n",
    "If the input is wrong, we catch an exception.\n",
    "If the prediction would result in a negative price we reset to 0 and print the prediction"
   ]
  },
  {
   "cell_type": "code",
   "execution_count": 3,
   "metadata": {
    "tags": []
   },
   "outputs": [
    {
     "name": "stdout",
     "output_type": "stream",
     "text": [
      "the predicted price to sell a car with 25000 km mileage is: 7976.0\n"
     ]
    }
   ],
   "source": [
    "try:\n",
    "\tprediction = theta1 * int(mileage) + theta0\n",
    "\tif prediction < 0:\n",
    "\t\tprediction = 0\n",
    "\tprint(\"the predicted price to sell a car with\", mileage, \"km mileage is:\", round(prediction,0))\n",
    "except:\n",
    "\tprint(\"wrong input\")\n",
    "\tsys.exit(1)"
   ]
  },
  {
   "cell_type": "markdown",
   "metadata": {},
   "source": [
    "## Train program (incl. bonus 1 and 2)"
   ]
  },
  {
   "cell_type": "markdown",
   "metadata": {},
   "source": [
    "Import needed modules. Throw errors if not all modules are installed or the data file is not present or readable.\n",
    "Also handler for Ctrl + C KeyboardInterrupt handling."
   ]
  },
  {
   "cell_type": "code",
   "execution_count": 4,
   "metadata": {},
   "outputs": [],
   "source": [
    "import sys\n",
    "try:\n",
    "\timport pandas as pd\n",
    "\timport matplotlib.pyplot as plt\n",
    "except:\n",
    "\tprint(\"you need to pip install matplotlib pandas first\")\n",
    "\tsys.exit(1)\n",
    "import signal, sys\n",
    "def sigint_handler(signal, frame):\n",
    "    print ('Ctrl+C not allowed')\n",
    "\n",
    "signal.signal(signal.SIGINT, sigint_handler)\n",
    "\n",
    "try:\n",
    "\tdata = pd.read_csv('data.csv')\n",
    "except FileNotFoundError:\n",
    "\tprint(\"file not found\")\n",
    "\tsys.exit(1)"
   ]
  },
  {
   "cell_type": "markdown",
   "metadata": {},
   "source": [
    "Loaded Data needs to be normalized or we could run into an overflow."
   ]
  },
  {
   "cell_type": "code",
   "execution_count": 5,
   "metadata": {},
   "outputs": [],
   "source": [
    "max_km = data[\"km\"].max()\n",
    "max_price = data[\"price\"].max()\n",
    "\n",
    "data[\"km\"] /= max_km\n",
    "data[\"price\"] /= max_price"
   ]
  },
  {
   "cell_type": "markdown",
   "metadata": {},
   "source": [
    "For the prediction of the value we use the function theta1 * x + theta0. That function will create a straight line that can predict to a certain degree what values we get for a certain input.\n",
    "To optimize that line we use the gradient descent algorithm of the following function."
   ]
  },
  {
   "cell_type": "code",
   "execution_count": 6,
   "metadata": {},
   "outputs": [],
   "source": [
    "def gradient_descent(theta1, theta0, points, L):\n",
    "\ttheta1_gradient = 0\n",
    "\ttheta0_gradient = 0\n",
    "\n",
    "\tn = len(points)\n",
    "\n",
    "\tfor i in range(n):\n",
    "\t\tx = points.iloc[i].km\n",
    "\t\ty = points.iloc[i].price\n",
    "\t\ttheta1_gradient = (((theta1 * x + theta0) - y) * x)\n",
    "\t\ttheta0_gradient = ((theta1 * x + theta0) - y)\n",
    "\t\ttheta1 -= L * (1/n) * theta1_gradient\n",
    "\t\ttheta0 -= L * (1/n) * theta0_gradient\n",
    "\n",
    "\treturn theta1, theta0"
   ]
  },
  {
   "cell_type": "markdown",
   "metadata": {},
   "source": [
    "this part calls the gradient descent function multiple times to minimize the deviation between the data points and the prediction."
   ]
  },
  {
   "cell_type": "code",
   "execution_count": 7,
   "metadata": {},
   "outputs": [
    {
     "name": "stdout",
     "output_type": "stream",
     "text": [
      "no custom approximation, setting to standard 8\n",
      "0 / 10000 - thetas 0.028168193642417946 0.07277206814407498\n",
      "1000 / 10000 - thetas -0.6035880315245832 1.019078000929339\n",
      "2000 / 10000 - thetas -0.6213152684634656 1.026732432777935\n",
      "3000 / 10000 - thetas -0.6216711182952879 1.0268860849401653\n",
      "stopped at iteration 3075 - reached approximation to 8 th decimal place\n"
     ]
    }
   ],
   "source": [
    "theta1 = 0\n",
    "theta0 = 0\n",
    "theta0_prev = None\n",
    "L = 0.1\n",
    "epochs = 10000\n",
    "try:\n",
    "\tapprox = int(sys.argv[1])\n",
    "\tprint(\"custom approximation set to:\", approx)\n",
    "except:\n",
    "\tprint(\"no custom approximation, setting to standard 8\")\n",
    "\tapprox = 8\n",
    "\n",
    "for i in range(epochs):\n",
    "\ttheta1, theta0 = gradient_descent(theta1, theta0, data, L)\n",
    "\tif (i % 1000) == 0:\n",
    "\t\tprint(i, \"/\", epochs, \"- thetas\", theta1, theta0)\n",
    "\tif theta0_prev != round(theta0, approx):\n",
    "\t\ttheta0_prev = round(theta0, approx)\n",
    "\telse:\n",
    "\t\tprint(\"stopped at iteration\", i, \"- reached approximation to\", approx,\"th decimal place\")\n",
    "\t\tbreak"
   ]
  },
  {
   "cell_type": "markdown",
   "metadata": {},
   "source": [
    "to get the right values we need to de-normalize the data again and export the thetas to a file so the predict program can use them to predict the prices"
   ]
  },
  {
   "cell_type": "code",
   "execution_count": 8,
   "metadata": {},
   "outputs": [],
   "source": [
    "data[\"km\"] *= max_km\n",
    "data[\"price\"] *= max_price\n",
    "theta1 *= max_price / max_km\n",
    "theta0 *= max_price\n",
    "\n",
    "file = open('theta.py', 'w')\n",
    "filcontent = \"theta0 = \" + str(theta0) + \"\\r\\n\" + \"theta1 = \" + str(theta1) + \"\\r\\n\"\n",
    "file.write(filcontent)\n",
    "file.close()"
   ]
  },
  {
   "cell_type": "markdown",
   "metadata": {},
   "source": [
    "Here you can see the plottet data points (bonus 1)"
   ]
  },
  {
   "cell_type": "code",
   "execution_count": 9,
   "metadata": {
    "tags": []
   },
   "outputs": [
    {
     "data": {
      "text/plain": [
       "Text(0, 0.5, 'price')"
      ]
     },
     "execution_count": 9,
     "metadata": {},
     "output_type": "execute_result"
    },
    {
     "data": {
      "image/png": "[encoded data removed]",
      "text/plain": [
       "<Figure size 640x480 with 1 Axes>"
      ]
     },
     "metadata": {},
     "output_type": "display_data"
    }
   ],
   "source": [
    "plt.scatter(x=data[\"km\"], y=data[\"price\"], color=\"black\")\n",
    "plt.xlabel(\"km\")\n",
    "plt.ylabel(\"price\")\n",
    "plt.show()"
   ]
  },
  {
   "cell_type": "markdown",
   "metadata": {},
   "source": [
    "...and the data points incl the linear regression line (bonus 2)"
   ]
  },
  {
   "cell_type": "code",
   "execution_count": 10,
   "metadata": {
    "tags": []
   },
   "outputs": [
    {
     "data": {
      "image/png": "[encoded data removed]",
      "text/plain": [
       "<Figure size 640x480 with 1 Axes>"
      ]
     },
     "metadata": {},
     "output_type": "display_data"
    }
   ],
   "source": [
    "plt.scatter(x=data[\"km\"], y=data[\"price\"], color=\"black\")\n",
    "plt.xlabel(\"km\")\n",
    "plt.ylabel(\"price\")\n",
    "plt.plot(list(range(20000, 250000)), [theta1 * x + theta0 for x in range(20000, 250000)], color=\"red\")\n",
    "plt.show()"
   ]
  },
  {
   "cell_type": "markdown",
   "metadata": {},
   "source": [
    "## Precision program (bonus 3)"
   ]
  },
  {
   "cell_type": "markdown",
   "metadata": {},
   "source": [
    "import necessary modules incl. error handling"
   ]
  },
  {
   "cell_type": "code",
   "execution_count": null,
   "metadata": {},
   "outputs": [
    {
     "ename": "",
     "evalue": "",
     "output_type": "error",
     "traceback": [
      "\u001b[1;31mDas Ausführen von Zellen mit \"/bin/python3\" erfordert das Paket ipykernel.\n",
      "\u001b[1;31mRun the following command to install 'ipykernel' into the Python environment. \n",
      "\u001b[1;31mCommand: '/bin/python3 -m pip install ipykernel -U --user --force-reinstall'"
     ]
    }
   ],
   "source": [
    "import sys\n",
    "import math\n",
    "try:\n",
    "\timport pandas as pd\n",
    "\timport matplotlib.pyplot as plt\n",
    "\timport numpy as np\n",
    "except:\n",
    "\tprint(\"you need to pip install matplotlib pandas numpy first\")\n",
    "\tsys.exit(1)\n",
    "\n",
    "try:\n",
    "\timport theta\n",
    "\ttheta1 = theta.theta1\n",
    "\ttheta0 = theta.theta0\n",
    "\tdata = pd.read_csv('data.csv')\n",
    "\tdata_norm = pd.read_csv('data.csv')\n",
    "except:\n",
    "\tprint(\"input files not found - check if data.csv is present and run train.py first\")\n",
    "\tsys.exit(1)"
   ]
  },
  {
   "cell_type": "markdown",
   "metadata": {},
   "source": [
    "calculate the average of all price data points"
   ]
  },
  {
   "cell_type": "code",
   "execution_count": 12,
   "metadata": {},
   "outputs": [],
   "source": [
    "mean = np.mean(data[\"price\"])\n",
    "plot_data = [mean] * len(data[\"km\"])"
   ]
  },
  {
   "cell_type": "markdown",
   "metadata": {},
   "source": [
    "calculate Mean Squared Error (MSE) for the average of all the price data points and\n",
    "calculate MSE for the trained model"
   ]
  },
  {
   "cell_type": "code",
   "execution_count": 13,
   "metadata": {},
   "outputs": [],
   "source": [
    "def calc_mse(data, mean):\n",
    "\tmse = np.sum((data[\"price\"] - mean) ** 2) / len(data)\n",
    "\treturn mse\n",
    "\n",
    "def calc_mse_lin_reg(data, theta0, theta1):\n",
    "\tpredictions = theta1 * data[\"km\"] + theta0\n",
    "\tsquared_diff = (data[\"price\"] - predictions) ** 2\n",
    "\tmse = np.sum(squared_diff) / len(data)\n",
    "\treturn mse\n",
    "\n",
    "mse = calc_mse(data, mean)\n",
    "mse_lin_reg = calc_mse_lin_reg(data, theta0, theta1)\n",
    "# print(mse_lin_reg)\n",
    "# print(mse)"
   ]
  },
  {
   "attachments": {},
   "cell_type": "markdown",
   "metadata": {},
   "source": [
    "gradient descent function from the training module"
   ]
  },
  {
   "cell_type": "code",
   "execution_count": null,
   "metadata": {},
   "outputs": [],
   "source": [
    "def gradient_descent(theta1, theta0, points, L):\n",
    "\ttheta1_gradient = 0\n",
    "\ttheta0_gradient = 0\n",
    "\n",
    "\tn = len(points)\n",
    "\n",
    "\tfor i in range(n):\n",
    "\t\tx = points.iloc[i].km\n",
    "\t\ty = points.iloc[i].price\n",
    "\t\ttheta1_gradient = (((theta1 * x + theta0) - y) * x)\n",
    "\t\ttheta0_gradient = ((theta1 * x + theta0) - y)\n",
    "\t\ttheta1 -= L * (1/n) * theta1_gradient\n",
    "\t\ttheta0 -= L * (1/n) * theta0_gradient\n",
    "\n",
    "\treturn theta1, theta0"
   ]
  },
  {
   "attachments": {},
   "cell_type": "markdown",
   "metadata": {},
   "source": [
    "data preparation for gradient descent graph and saving every iteration to an array for plotting the graph"
   ]
  },
  {
   "cell_type": "code",
   "execution_count": null,
   "metadata": {},
   "outputs": [],
   "source": [
    "max_km = data_norm[\"km\"].max()\n",
    "max_price = data_norm[\"price\"].max()\n",
    "\n",
    "data_norm[\"km\"] /= max_km\n",
    "data_norm[\"price\"] /= max_price\n",
    "\n",
    "rmse_precision = []\n",
    "theta1_rmse = 0\n",
    "theta0_rmse = 0\n",
    "\n",
    "for i in range(1000):\n",
    "\ttheta1_rmse, theta0_rmse = gradient_descent(theta1_rmse, theta0_rmse, data_norm, 0.1)\n",
    "\t# print(theta1_rmse, theta0_rmse)\n",
    "\t# print(math.sqrt(calc_mse_lin_reg(data, theta0_rmse, theta1_rmse)))\n",
    "\trmse_precision.append(math.sqrt(calc_mse_lin_reg(data, theta0_rmse * max_price, theta1_rmse * max_price / max_km)))\n",
    "\n",
    "plt.clf()\n",
    "plt.plot(np.array(rmse_precision))\n",
    "plt.savefig('prescision_rmse.png')\n",
    "\n",
    "#de-normalization\n",
    "theta1 *= max_price / max_km\n",
    "theta0 *= max_price"
   ]
  },
  {
   "cell_type": "markdown",
   "metadata": {},
   "source": [
    "calculate r_squared and Root Mean Squared Error (RMSE) and print them"
   ]
  },
  {
   "cell_type": "code",
   "execution_count": 14,
   "metadata": {},
   "outputs": [
    {
     "name": "stdout",
     "output_type": "stream",
     "text": [
      "The km/price relationship accounts for r^2 73.29 % of the variation\n",
      "The Root Mean Squared Error is 668.0 meaning that the prediction is in the range of +- 668.0 of the price\n"
     ]
    }
   ],
   "source": [
    "r2 = (mse - mse_lin_reg) / mse\n",
    "print(\"The km/price relationship accounts for r^2\", round(r2*100,2), \"% of the variation\")\n",
    "print(\"The Root Mean Squared Error is\", round(math.sqrt(mse_lin_reg),0), \"meaning that the prediction is in the range of +-\", round(math.sqrt(mse_lin_reg),0), \"of the price\")"
   ]
  },
  {
   "cell_type": "markdown",
   "metadata": {},
   "source": [
    "plot all calculated above into a graph"
   ]
  },
  {
   "cell_type": "code",
   "execution_count": 15,
   "metadata": {
    "tags": []
   },
   "outputs": [
    {
     "data": {
      "image/png": "[encoded data removed]",
      "text/plain": [
       "<Figure size 640x480 with 1 Axes>"
      ]
     },
     "metadata": {},
     "output_type": "display_data"
    }
   ],
   "source": [
    "plt.scatter(x=data[\"km\"], y=data[\"price\"], color=\"black\")\n",
    "plt.xlabel(\"km\")\n",
    "plt.ylabel(\"price\")\n",
    "plt.plot(data[\"km\"], plot_data)\n",
    "plt.plot(list(range(20000, 250000)), [theta1 * x + theta0 for x in range(20000, 250000)], color=\"red\")\n",
    "plt.show()"
   ]
  },
  {
   "cell_type": "code",
   "execution_count": null,
   "metadata": {},
   "outputs": [],
   "source": []
  }
 ],
 "metadata": {
  "kernelspec": {
   "display_name": "Python 3 (ipykernel)",
   "language": "python",
   "name": "python3"
  },
  "language_info": {
   "codemirror_mode": {
    "name": "ipython",
    "version": 3
   },
   "file_extension": ".py",
   "mimetype": "text/x-python",
   "name": "python",
   "nbconvert_exporter": "python",
   "pygments_lexer": "ipython3",
   "version": "3.9.2"
  },
  "vscode": {
   "interpreter": {
    "hash": "916dbcbb3f70747c44a77c7bcd40155683ae19c65e1c03b4aa3499c5328201f1"
   }
  }
 },
 "nbformat": 4,
 "nbformat_minor": 4
}
