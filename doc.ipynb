{
 "cells": [
  {
   "cell_type": "markdown",
   "metadata": {},
   "source": [
    "### Documentation for linear regression algorithm"
   ]
  },
  {
   "cell_type": "markdown",
   "metadata": {},
   "source": [
    "#### Predict program"
   ]
  },
  {
   "cell_type": "markdown",
   "metadata": {},
   "source": [
    "First import the needed modules\n",
    "sys is needed for exiting the program\n",
    "theta is the prepared file from the training program. In Case it did not run yet, we initialize theta0 and theta1 to 0"
   ]
  },
  {
   "cell_type": "code",
   "execution_count": 1,
   "metadata": {
    "tags": []
   },
   "outputs": [],
   "source": [
    "import sys\n",
    "try:\n",
    "\timport theta\n",
    "\ttheta1 = theta.theta1\n",
    "\ttheta0 = theta.theta0\n",
    "except:\n",
    "\ttheta1 = 0\n",
    "\ttheta0 = 0"
   ]
  },
  {
   "cell_type": "code",
   "execution_count": 2,
   "metadata": {
    "tags": []
   },
   "outputs": [
    {
     "name": "stdin",
     "output_type": "stream",
     "text": [
      "please enter your mileage: 25000\n"
     ]
    }
   ],
   "source": [
    "mileage = input(\"please enter your mileage:\")"
   ]
  },
  {
   "cell_type": "markdown",
   "metadata": {},
   "source": [
    "After we got the mileage to predict the price we calculate the prediction based on the thetas and the input.\n",
    "If the input is wrong, we catch an exception.\n",
    "If the prediction would result in a negative price we reset to 0 and print the prediction"
   ]
  },
  {
   "cell_type": "code",
   "execution_count": 3,
   "metadata": {
    "tags": []
   },
   "outputs": [
    {
     "name": "stdout",
     "output_type": "stream",
     "text": [
      "the predicted price to sell a car with 25000 km mileage is: 7976.0\n"
     ]
    }
   ],
   "source": [
    "try:\n",
    "\tprediction = theta1 * int(mileage) + theta0\n",
    "\tif prediction < 0:\n",
    "\t\tprediction = 0\n",
    "\tprint(\"the predicted price to sell a car with\", mileage, \"km mileage is:\", round(prediction,0))\n",
    "except:\n",
    "\tprint(\"wrong input\")\n",
    "\tsys.exit(1)"
   ]
  }
 ],
 "metadata": {
  "kernelspec": {
   "display_name": "Python 3 (ipykernel)",
   "language": "python",
   "name": "python3"
  },
  "language_info": {
   "codemirror_mode": {
    "name": "ipython",
    "version": 3
   },
   "file_extension": ".py",
   "mimetype": "text/x-python",
   "name": "python",
   "nbconvert_exporter": "python",
   "pygments_lexer": "ipython3",
   "version": "3.9.2"
  },
  "vscode": {
   "interpreter": {
    "hash": "916dbcbb3f70747c44a77c7bcd40155683ae19c65e1c03b4aa3499c5328201f1"
   }
  }
 },
 "nbformat": 4,
 "nbformat_minor": 4
}
